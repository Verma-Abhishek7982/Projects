{
  "nbformat": 4,
  "nbformat_minor": 0,
  "metadata": {
    "colab": {
      "provenance": [],
      "authorship_tag": "ABX9TyP36gm/S+AHgDtyAB4u3XNM",
      "include_colab_link": true
    },
    "kernelspec": {
      "name": "python3",
      "display_name": "Python 3"
    },
    "language_info": {
      "name": "python"
    }
  },
  "cells": [
    {
      "cell_type": "markdown",
      "metadata": {
        "id": "view-in-github",
        "colab_type": "text"
      },
      "source": [
        "<a href=\"https://colab.research.google.com/github/Verma-Abhishek7982/Projects/blob/main/Log.ipynb\" target=\"_parent\"><img src=\"https://colab.research.google.com/assets/colab-badge.svg\" alt=\"Open In Colab\"/></a>"
      ]
    },
    {
      "cell_type": "code",
      "source": [
        "import sys\n",
        "import os\n",
        "\n",
        "def extract_logs(date, input_file=\"logs_2024.log\", output_dir=\"output\"):\n",
        "    os.makedirs(output_dir, exist_ok=True)\n",
        "    output_file = os.path.join(output_dir, f\"output_{date}.txt\")\n",
        "\n",
        "    try:\n",
        "        with open(input_file, \"r\", encoding=\"utf-8\") as log_file, open(output_file, \"w\", encoding=\"utf-8\") as out_file:\n",
        "            for line in log_file:\n",
        "                if line.startswith(date):\n",
        "                    out_file.write(line)\n",
        "\n",
        "        print(f\"Logs for {date} saved in {output_file}\")\n",
        "\n",
        "    except FileNotFoundError:\n",
        "        print(\"Log file not found. Please check the file path.\")\n",
        "    except Exception as e:\n",
        "        print(f\"An error occurred: {e}\")\n",
        "\n",
        "!echo \"2024-12-01 This is a log entry\" > /content/logs_2024.log\n",
        "!echo \"2024-12-02 Another log entry\" >> /content/logs_2024.log\n",
        "\n",
        "date_arg = \"2024-12-01\"\n",
        "extract_logs(date_arg, input_file=\"/content/logs_2024.log\")\n"
      ],
      "metadata": {
        "colab": {
          "base_uri": "https://localhost:8080/"
        },
        "id": "PywkJVPjoBEk",
        "outputId": "6c36c317-eafc-4fcc-bedd-f850e546a982"
      },
      "execution_count": 4,
      "outputs": [
        {
          "output_type": "stream",
          "name": "stdout",
          "text": [
            "Logs for 2024-12-01 saved in output/output_2024-12-01.txt\n"
          ]
        }
      ]
    }
  ]
}